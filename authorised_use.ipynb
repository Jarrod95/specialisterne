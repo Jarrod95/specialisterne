{
 "cells": [
  {
   "cell_type": "code",
   "execution_count": 155,
   "metadata": {},
   "outputs": [],
   "source": [
    "#import libraries\n",
    "import pandas as pd"
   ]
  },
  {
   "cell_type": "code",
   "execution_count": 156,
   "metadata": {},
   "outputs": [],
   "source": [
    "#import datasets\n",
    "cyberark = pd.read_excel(r'C:\\Users\\Jarrod\\Documents\\Data Science\\Specialistinterne Workshop\\SIEM Task\\wbc_siem_cyberark_dataset.xlsx')\n",
    "unix = pd.read_excel(r'C:\\Users\\Jarrod\\Documents\\Data Science\\Specialistinterne Workshop\\SIEM Task\\wbc_siem_unix_auditd_dataset.xlsx')\n",
    "windows = pd.read_excel(r'C:\\Users\\Jarrod\\Documents\\Data Science\\Specialistinterne Workshop\\SIEM Task\\wbc_siem_windows_dataset.xlsx')"
   ]
  },
  {
   "cell_type": "code",
   "execution_count": 157,
   "metadata": {},
   "outputs": [],
   "source": [
    "#Clean up all date fields\n",
    "cyberark['Event Time'] = cyberark['Event Time'].str.replace('AEST', '')\n",
    "cyberark['deviceCustomDate1'] = cyberark['deviceCustomDate1'].str.replace('AEST', '')\n",
    "cyberark['deviceCustomDate2'] = cyberark['deviceCustomDate2'].str.replace('AEST', '')\n",
    "\n",
    "unix['Event Time'] = unix['Event Time'].str.replace('AEST', '')\n",
    "windows['Event Time'] = windows['Event Time'].str.replace('AEST', '')\n",
    "\n",
    "#Convert all date fields to datetime\n",
    "cyberark['Event Time'] = pd.to_datetime(cyberark['Event Time'], format='%Y-%m-%d %H:%M:%S')\n",
    "cyberark['deviceCustomDate1'] = pd.to_datetime(cyberark['deviceCustomDate1'], format='%Y-%m-%d %H:%M:%S')\n",
    "cyberark['deviceCustomDate2'] = pd.to_datetime(cyberark['deviceCustomDate2'], format='%Y-%m-%d %H:%M:%S')\n",
    "\n",
    "unix['Event Time'] = pd.to_datetime(unix['Event Time'], format='%Y-%m-%d %H:%M:%S')\n",
    "windows['Event Time'] = pd.to_datetime(windows['Event Time'], format='%Y-%m-%d %H:%M:%S')"
   ]
  },
  {
   "cell_type": "code",
   "execution_count": 158,
   "metadata": {},
   "outputs": [],
   "source": [
    "#merge desired columns into one dataframe\n",
    "merged = pd.concat([unix[['Event Time', 'destinationUserName', 'fDeviceVendor']],\\\n",
    "                    windows[['Event Time', 'destinationUserName', 'fDeviceVendor']]],\\\n",
    "                   axis=0, sort=False)"
   ]
  },
  {
   "cell_type": "code",
   "execution_count": 159,
   "metadata": {},
   "outputs": [],
   "source": [
    "#Extract only the confirmed approved access from Cyberark dataset\n",
    "confirmed = cyberark.loc[cyberark['Name'] == 'Retrieve password'].reset_index(drop=True)"
   ]
  },
  {
   "cell_type": "code",
   "execution_count": 160,
   "metadata": {},
   "outputs": [
    {
     "name": "stdout",
     "output_type": "stream",
     "text": [
      "['2020-09-22 22:00:00', 'dvader', 'Unix', 'Retrieve password', '2020-09-22 21:40:18', '2020-09-22 23:40:18', 'dvader']\n",
      "['2020-09-21 20:37:22', 'puser04', 'Unix', 'Retrieve password', '2020-09-21 10:00:00', '2020-09-22 00:00:00', 'puser04']\n",
      "['2020-09-21 20:40:23', 'puser05', 'Unix', 'Retrieve password', '2020-09-21 18:00:00', '2020-09-21 22:00:00', 'puser05']\n",
      "['2020-09-23 21:00:50', 'dvader', 'Unix', 'Retrieve password', '2020-09-23 20:38:40', '2020-09-23 22:00:00', 'dvader']\n",
      "['2020-09-22 20:40:20', 'puser05', 'Unix', 'Retrieve password', '2020-09-22 20:00:00', '2020-09-22 22:00:00', 'puser05']\n",
      "['2020-09-22 21:37:28', 'puser04', 'Unix', 'Retrieve password', '2020-09-22 18:00:00', '2020-09-22 23:00:00', 'puser04']\n",
      "['2020-09-24 21:29:50', 'dvader', 'Unix', 'Retrieve password', '2020-09-24 20:38:40', '2020-09-24 23:00:00', 'dvader']\n",
      "['2020-09-23 20:40:23', 'puser05', 'Unix', 'Retrieve password', '2020-09-23 18:00:00', '2020-09-23 23:00:00', 'puser05']\n",
      "['2020-09-25 21:00:00', 'dvader', 'Unix', 'Retrieve password', '2020-09-25 20:38:40', '2020-09-25 21:30:00', 'dvader']\n",
      "['2020-09-23 20:37:22', 'puser04', 'Unix', 'Retrieve password', '2020-09-23 19:00:00', '2020-09-23 22:00:00', 'puser04']\n",
      "['2020-09-22 01:30:40', 'puser03', 'Microsoft', 'Retrieve password', '2020-09-21 09:30:40', '2020-09-23 17:00:00', 'puser03']\n",
      "['2020-09-22 20:50:18', 'puser01', 'Microsoft', 'Retrieve password', '2020-09-22 20:50:00', '2020-09-22 22:00:00', 'puser01']\n",
      "['2020-09-24 20:40:25', 'puser05', 'Unix', 'Retrieve password', '2020-09-24 20:00:00', '2020-09-24 21:30:00', 'puser05']\n",
      "['2020-09-22 23:59:18', 'puser02', 'Microsoft', 'Retrieve password', '2020-09-22 17:00:00', '2020-09-24 17:00:00', 'puser02']\n",
      "['2020-09-24 01:37:18', 'puser02', 'Microsoft', 'Retrieve password', '2020-09-23 12:00:00', '2020-09-25 17:00:00', 'puser02']\n",
      "['2020-09-22 23:50:18', 'puser03', 'Microsoft', 'Retrieve password', '2020-09-22 09:00:00', '2020-09-24 17:00:00', 'puser03']\n",
      "['2020-09-23 17:30:00', 'puser03', 'Microsoft', 'Retrieve password', '2020-09-23 17:00:00', '2020-09-24 17:00:00', 'puser03']\n",
      "['2020-09-26 23:00:50', 'dvader', 'Unix', 'Retrieve password', '2020-09-26 20:38:40', '2020-09-26 23:30:40', 'dvader']\n",
      "['2020-09-24 21:37:20', 'puser04', 'Unix', 'Retrieve password', '2020-09-24 20:00:00', '2020-09-24 23:00:00', 'puser04']\n",
      "['2020-09-25 20:40:21', 'puser05', 'Unix', 'Retrieve password', '2020-09-25 17:00:00', '2020-09-25 22:00:00', 'puser05']\n",
      "20\n"
     ]
    }
   ],
   "source": [
    "#Iterate through and find all authorised access of servers to build a dataframe\n",
    "approved = pd.DataFrame(columns = [['Event Time', 'destinationUserName', 'fDeviceVendor', 'Name', 'deviceCustomDate1', 'deviceCustomDate2', 'destinationUser_cyberark']])\n",
    "i = 0\n",
    "while i < len(confirmed):\n",
    "    try:\n",
    "        for index, row in merged.iterrows():\n",
    "            if (row['Event Time'] > confirmed['deviceCustomDate1'][i]) & (row['Event Time'] <= confirmed['deviceCustomDate2'][i]) & (row['destinationUserName'] == confirmed['destinationUserName'][i]):\n",
    "                d = list(row[['Event Time', 'destinationUserName', 'fDeviceVendor']])\n",
    "                k = list(confirmed.loc[i, ['Name', 'deviceCustomDate1', 'deviceCustomDate2', 'destinationUserName']])\n",
    "                z = d + k\n",
    "                #Change list items from timestamp to string and add to dataframe\n",
    "                z[0], z[4], z[5] = str(z[0]), str(z[4]), str(z[5])\n",
    "                print(z)\n",
    "                i += 1\n",
    "                approved.loc[len(approved)] = z\n",
    "    except Exception as e:\n",
    "        print(e)\n",
    "        #break"
   ]
  },
  {
   "cell_type": "code",
   "execution_count": 161,
   "metadata": {},
   "outputs": [
    {
     "name": "stdout",
     "output_type": "stream",
     "text": [
      "['2020-09-23 21:00:50', 'dvader', 'Unix', 'Retrieve password', '2020-09-22 21:40:18', '2020-09-22 23:40:18', 'dvader']\n",
      "['2020-09-24 21:29:50', 'dvader', 'Unix', 'Retrieve password', '2020-09-21 10:00:00', '2020-09-22 00:00:00', 'puser04']\n",
      "['2020-09-25 21:00:00', 'dvader', 'Unix', 'Retrieve password', '2020-09-21 18:00:00', '2020-09-21 22:00:00', 'puser05']\n",
      "['2020-09-26 23:00:50', 'dvader', 'Unix', 'Retrieve password', '2020-09-23 20:38:40', '2020-09-23 22:00:00', 'dvader']\n",
      "['2020-09-30 23:00:50', 'dvader', 'Unix', 'Retrieve password', '2020-09-22 20:00:00', '2020-09-22 22:00:00', 'puser05']\n",
      "['2020-09-21 20:37:22', 'puser04', 'Unix', 'Retrieve password', '2020-09-22 18:00:00', '2020-09-22 23:00:00', 'puser04']\n",
      "['2020-09-22 21:37:28', 'puser04', 'Unix', 'Retrieve password', '2020-09-24 20:38:40', '2020-09-24 23:00:00', 'dvader']\n",
      "['2020-09-23 20:37:22', 'puser04', 'Unix', 'Retrieve password', '2020-09-23 18:00:00', '2020-09-23 23:00:00', 'puser05']\n",
      "['2020-09-24 21:37:20', 'puser04', 'Unix', 'Retrieve password', '2020-09-25 20:38:40', '2020-09-25 21:30:00', 'dvader']\n",
      "['2020-09-21 20:40:23', 'puser05', 'Unix', 'Retrieve password', '2020-09-23 19:00:00', '2020-09-23 22:00:00', 'puser04']\n",
      "['2020-09-22 20:40:20', 'puser05', 'Unix', 'Retrieve password', '2020-09-21 09:30:40', '2020-09-23 17:00:00', 'puser03']\n",
      "['2020-09-23 20:40:23', 'puser05', 'Unix', 'Retrieve password', '2020-09-22 20:50:00', '2020-09-22 22:00:00', 'puser01']\n",
      "['2020-09-25 20:40:21', 'puser05', 'Unix', 'Retrieve password', '2020-09-24 20:00:00', '2020-09-24 21:30:00', 'puser05']\n",
      "['2020-09-28 15:29:50', 'puser127', 'Unix', 'Retrieve password', '2020-09-22 17:00:00', '2020-09-24 17:00:00', 'puser02']\n",
      "['2020-09-29 16:21:50', 'puser126', 'Unix', 'Retrieve password', '2020-09-23 12:00:00', '2020-09-25 17:00:00', 'puser02']\n",
      "['2020-09-21 20:19:50', 'puser100', 'Unix', 'Retrieve password', '2020-09-22 09:00:00', '2020-09-24 17:00:00', 'puser03']\n",
      "['2020-09-19 21:27:51', 'puser91', 'Unix', 'Retrieve password', '2020-09-23 17:00:00', '2020-09-24 17:00:00', 'puser03']\n",
      "['2020-09-28 14:29:50', 'puser87', 'Unix', 'Retrieve password', '2020-09-26 20:38:40', '2020-09-26 23:30:40', 'dvader']\n",
      "['2020-09-22 01:30:40', 'puser03', 'Microsoft', 'Retrieve password', '2020-09-24 20:00:00', '2020-09-24 23:00:00', 'puser04']\n",
      "['2020-09-22 02:30:40', 'puser03', 'Microsoft', 'Retrieve password', '2020-09-25 17:00:00', '2020-09-25 22:00:00', 'puser05']\n",
      "20\n"
     ]
    }
   ],
   "source": [
    "#Iterate through and find all unauthorised access of servers\n",
    "not_approved = pd.DataFrame(columns = [['Event Time', 'destinationUserName', 'fDeviceVendor', 'Name', 'deviceCustomDate1', 'deviceCustomDate2', 'destinationUser_cyberark']])\n",
    "i = 0\n",
    "while i < len(confirmed):\n",
    "    try:\n",
    "        for index, row in merged.iterrows():\n",
    "            if not (row['Event Time'] > confirmed['deviceCustomDate1'][i]) & (row['Event Time'] <= confirmed['deviceCustomDate2'][i]) & (row['destinationUserName'] == confirmed['destinationUserName'][i]):\n",
    "                d = list(row[['Event Time', 'destinationUserName', 'fDeviceVendor']])\n",
    "                k = list(confirmed.loc[i, ['Name', 'deviceCustomDate1', 'deviceCustomDate2', 'destinationUserName']])\n",
    "                z = d + k\n",
    "                #Change list items from timestamp to string and add to dataframe\n",
    "                #(had trouble adding them as they came out as timestamps)\n",
    "                z[0], z[4], z[5] = str(z[0]), str(z[4]), str(z[5])\n",
    "                print(z)\n",
    "                i += 1\n",
    "                not_approved.loc[len(not_approved)] = z\n",
    "    except Exception as e:\n",
    "        print(e)\n",
    "        #break"
   ]
  },
  {
   "cell_type": "code",
   "execution_count": 162,
   "metadata": {},
   "outputs": [],
   "source": [
    "#print dataframes to csv files \n",
    "approved.to_csv('approved_server_use.csv')\n",
    "not_approved.to_csv('not_approved_server_use.csv')"
   ]
  },
  {
   "cell_type": "code",
   "execution_count": null,
   "metadata": {},
   "outputs": [],
   "source": []
  }
 ],
 "metadata": {
  "kernelspec": {
   "display_name": "Python 3",
   "language": "python",
   "name": "python3"
  },
  "language_info": {
   "codemirror_mode": {
    "name": "ipython",
    "version": 3
   },
   "file_extension": ".py",
   "mimetype": "text/x-python",
   "name": "python",
   "nbconvert_exporter": "python",
   "pygments_lexer": "ipython3",
   "version": "3.7.3"
  }
 },
 "nbformat": 4,
 "nbformat_minor": 2
}
